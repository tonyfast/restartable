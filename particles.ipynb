{
    "cells": [
        {
            "cell_type": "code",
            "execution_count": null,
            "metadata": {},
            "outputs": [],
            "source": [
                "from nbformat import reads, v4 \n",
                "from pandas import concat, DataFrame, to_datetime \n",
                "from pathlib import Path "
            ]
        },
        {
            "cell_type": "code",
            "execution_count": null,
            "metadata": {},
            "outputs": [],
            "source": [
                "def read_notebooks(dir:str='.')->DataFrame:\n",
                "    \"\"\"Read a directory of notebooks into a pandas.DataFrame\n",
                "    >>> df = read_notebooks('.')\n",
                "    >>> assert len(df) and isinstance(df, DataFrame)\"\"\"\n",
                "    return concat({\n",
                "        file: DataFrame(reads(file.read_text(), 4)['cells'])\n",
                "        for file in Path(dir).glob('*.ipynb')\n",
                "    }).reset_index(-1, drop=True)"
            ]
        },
        {
            "cell_type": "code",
            "execution_count": null,
            "metadata": {},
            "outputs": [],
            "source": [
                "def files_to_data(df:DataFrame)->DataFrame:\n",
                "    \"\"\"Transform an index of Path's to a dataframe of os_stat.\n",
                "    >>> df = files_to_data(read_notebooks())\n",
                "    \"\"\"\n",
                "    stats, index = [], df.index.unique()\n",
                "    for file in index:\n",
                "        stat = file.stat() \n",
                "        stats.append({\n",
                "            key: to_datetime(\n",
                "                getattr(stat, key), unit=key.endswith('s') and key.rsplit('_')[-1] or 's'\n",
                "            ) if 'time' in key else getattr(stat, key)\n",
                "            for key in dir(stat) if not key.startswith('_') and not callable(getattr(stat, key))})\n",
                "    # Append the change in time to the dataframe.\n",
                "    return DataFrame(stats, index).pipe(lambda df: df.join((df.st_mtime - df.st_birthtime).rename('dt')))"
            ]
        }
    ],
    "metadata": {},
    "nbformat": 4,
    "nbformat_minor": 2
}
